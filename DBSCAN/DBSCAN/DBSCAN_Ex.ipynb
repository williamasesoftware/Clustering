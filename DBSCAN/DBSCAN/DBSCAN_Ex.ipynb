{
 "cells": [
  {
   "cell_type": "markdown",
   "id": "27771fba",
   "metadata": {},
   "source": [
    "# DBSCAN \n",
    "\n",
    "Hands on! Another notebook??? Yes. More toy data? Yes!. Can you guess why? In real life, many datasets are not linearly separable, neither have clear shapes. Datasets for DBSCAN are hard to find, but it usually works great for spacial data. "
   ]
  },
  {
   "cell_type": "code",
   "execution_count": null,
   "id": "38ffca92",
   "metadata": {},
   "outputs": [],
   "source": [
    "import pandas as pd\n",
    "import matplotlib.pyplot as plt\n",
    "from sklearn.cluster import DBSCAN\n",
    "from sklearn import metrics\n",
    "import numpy as np\n",
    "from sklearn.preprocessing import StandardScaler"
   ]
  },
  {
   "cell_type": "code",
   "execution_count": null,
   "id": "d572bc03",
   "metadata": {},
   "outputs": [],
   "source": [
    "df = pd.read_csv(\"0\",header=None,delim_whitespace=True)"
   ]
  },
  {
   "cell_type": "code",
   "execution_count": null,
   "id": "3c9b7d9f",
   "metadata": {},
   "outputs": [],
   "source": [
    "plt.scatter(df[0], df[1])\n",
    "plt.show()"
   ]
  },
  {
   "cell_type": "code",
   "execution_count": null,
   "id": "53b08be8",
   "metadata": {},
   "outputs": [],
   "source": [
    "#Check the data, is there a need for any preprocessing?\n",
    "X = df.to_numpy()"
   ]
  },
  {
   "cell_type": "code",
   "execution_count": null,
   "id": "c45057f1",
   "metadata": {},
   "outputs": [],
   "source": [
    "# The challenge here is how to chose the two values for DBSCAN. Remember that it will find the number of clusters, \n",
    "# but we need to specify how many points should be in the neighbourhood of eps radius.\n",
    "clustering = DBSCAN(eps=, min_samples=).fit(X)"
   ]
  },
  {
   "cell_type": "code",
   "execution_count": null,
   "id": "64efe365",
   "metadata": {},
   "outputs": [],
   "source": [
    "labels = clustering.labels_\n",
    "\n",
    "# Number of clusters in labels, ignoring noise if present.\n",
    "n_clusters_ = len(set(labels)) - (1 if -1 in labels else 0)\n",
    "n_noise_ = list(labels).count(-1)\n",
    "\n",
    "print(\"Estimated number of clusters: %d\" % n_clusters_)\n",
    "print(\"Estimated number of noise points: %d\" % n_noise_)\n",
    "print(f\"Silhouette Coefficient: {metrics.silhouette_score(X, labels):.3f}\")"
   ]
  },
  {
   "cell_type": "code",
   "execution_count": null,
   "id": "86b90125",
   "metadata": {},
   "outputs": [],
   "source": [
    "#Plot clusters\n",
    "unique_labels = set(labels)\n",
    "core_samples_mask = np.zeros_like(labels, dtype=bool)\n",
    "core_samples_mask[clustering.core_sample_indices_] = True\n",
    "\n",
    "colors = [plt.cm.Spectral(each) for each in np.linspace(0, 1, len(unique_labels))]\n",
    "for k, col in zip(unique_labels, colors):\n",
    "    if k == -1:\n",
    "        # Black used for noise.\n",
    "        col = [0, 0, 0, 1]\n",
    "\n",
    "    class_member_mask = labels == k\n",
    "\n",
    "    xy = X[class_member_mask & core_samples_mask]\n",
    "    plt.plot(\n",
    "        xy[:,0],\n",
    "        xy[:,1],\n",
    "        \"o\",\n",
    "        markerfacecolor=tuple(col),\n",
    "        markeredgecolor=\"k\",\n",
    "        markersize=10,\n",
    "    )\n",
    "\n",
    "    xy = X[class_member_mask & ~core_samples_mask]\n",
    "    plt.plot(\n",
    "        xy[:,0],\n",
    "        xy[:,1],\n",
    "        \"o\",\n",
    "        markerfacecolor=tuple(col),\n",
    "        markeredgecolor=\"k\",\n",
    "        markersize=6,\n",
    "    )\n",
    "\n",
    "plt.title(f\"Estimated number of clusters: {n_clusters_}\")\n",
    "plt.show()"
   ]
  },
  {
   "cell_type": "markdown",
   "id": "2ad0877f",
   "metadata": {},
   "source": [
    "Nice! Now find the best $\\epsilon$ and min_samples for this dataset.  \n",
    "After that, repeat the process using the 91 and 33 files."
   ]
  },
  {
   "cell_type": "code",
   "execution_count": null,
   "id": "efbff5fd",
   "metadata": {},
   "outputs": [],
   "source": []
  }
 ],
 "metadata": {
  "kernelspec": {
   "display_name": "Python 3 (ipykernel)",
   "language": "python",
   "name": "python3"
  },
  "language_info": {
   "codemirror_mode": {
    "name": "ipython",
    "version": 3
   },
   "file_extension": ".py",
   "mimetype": "text/x-python",
   "name": "python",
   "nbconvert_exporter": "python",
   "pygments_lexer": "ipython3",
   "version": "3.9.7"
  }
 },
 "nbformat": 4,
 "nbformat_minor": 5
}
