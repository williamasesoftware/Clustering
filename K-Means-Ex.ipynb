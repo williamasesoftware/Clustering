{
 "cells": [
  {
   "cell_type": "markdown",
   "id": "b9e8679e",
   "metadata": {},
   "source": [
    "# K-Means\n"
   ]
  },
  {
   "cell_type": "markdown",
   "id": "9b5472d2",
   "metadata": {},
   "source": [
    "The pinguins are back! Use K-Means to find groups from the penguins dataset. Do they correspond to the true labels?"
   ]
  },
  {
   "cell_type": "code",
   "execution_count": null,
   "id": "50447f9b",
   "metadata": {},
   "outputs": [],
   "source": [
    "import os\n",
    "os.environ[\"OMP_NUM_THREADS\"] = '1'"
   ]
  },
  {
   "cell_type": "code",
   "execution_count": null,
   "id": "90bad0e7",
   "metadata": {},
   "outputs": [],
   "source": [
    "import pandas as pd\n",
    "import seaborn as sns \n",
    "from palmerpenguins import load_penguins\n",
    "import numpy as np\n",
    "import matplotlib.pyplot as plt\n",
    "import matplotlib\n",
    "from sklearn.preprocessing import StandardScaler\n",
    "from sklearn.cluster import KMeans\n",
    "from scipy.optimize import linear_sum_assignment\n",
    "sns.set_style('whitegrid')"
   ]
  },
  {
   "cell_type": "code",
   "execution_count": null,
   "id": "34d923f1",
   "metadata": {},
   "outputs": [],
   "source": [
    "penguins = load_penguins()\n",
    "penguins.head()"
   ]
  },
  {
   "cell_type": "code",
   "execution_count": null,
   "id": "fc3cd3a1",
   "metadata": {},
   "outputs": [],
   "source": [
    "penguins = penguins.dropna()"
   ]
  },
  {
   "cell_type": "code",
   "execution_count": null,
   "id": "ec916d8e",
   "metadata": {},
   "outputs": [],
   "source": [
    "X = penguins[['bill_length_mm','bill_depth_mm','flipper_length_mm','body_mass_g']]"
   ]
  },
  {
   "cell_type": "code",
   "execution_count": null,
   "id": "91329f57",
   "metadata": {},
   "outputs": [],
   "source": [
    "scaler = StandardScaler()\n",
    "X = scaler.fit_transform(X)"
   ]
  },
  {
   "cell_type": "code",
   "execution_count": null,
   "id": "00cbb649",
   "metadata": {},
   "outputs": [],
   "source": [
    "#TODO train a k-means model. What k are you looking for?"
   ]
  },
  {
   "cell_type": "code",
   "execution_count": null,
   "id": "506c53ba",
   "metadata": {},
   "outputs": [],
   "source": [
    "#Make a plot where the color is the label assigned by the clustering"
   ]
  },
  {
   "cell_type": "code",
   "execution_count": null,
   "id": "11d02d82",
   "metadata": {},
   "outputs": [],
   "source": [
    "#Make a 3D plot where the color is the label assigned by the clustering"
   ]
  },
  {
   "cell_type": "code",
   "execution_count": null,
   "id": "f3292a6d",
   "metadata": {},
   "outputs": [],
   "source": [
    "#TODO To which label each class correspond? Search about scipy linear_sum_assignment\n",
    "#It is an optimization problem.\n",
    "#Show the table"
   ]
  },
  {
   "cell_type": "code",
   "execution_count": null,
   "id": "b2c68c6c",
   "metadata": {},
   "outputs": [],
   "source": [
    "#TODO Do the elbow method for different k's"
   ]
  },
  {
   "cell_type": "code",
   "execution_count": null,
   "id": "479abf67",
   "metadata": {},
   "outputs": [],
   "source": [
    "#TODO train 1000 models, with random initialization. Plot the results of the losses"
   ]
  },
  {
   "cell_type": "code",
   "execution_count": null,
   "id": "75dbe740",
   "metadata": {},
   "outputs": [],
   "source": [
    "#TODO train 1000 models, with a better initialization. Plot the results of the losses"
   ]
  },
  {
   "cell_type": "markdown",
   "id": "df0e3bbf",
   "metadata": {},
   "source": [
    "We have already seen the K-Means class. We know that it can help us to reduce dimensionality and understand how the data behave. We can use it for finding groups and classify them. Now, we are going to use it to do image segmentation.  \n",
    "\n",
    "What do you think are the data points?  \n",
    "How can we evaluate each point?  \n",
    "How is different an image from a normal matrix of data?  \n",
    "\n",
    "We are going to use RGB images. They have three channels and we must take those into account while computing the groups.\n",
    "\n",
    "<img src=\"three_d_array.png\" alt=\"three_d_array\" width=\"300\"/>\n",
    "\n",
    "This time, you will have to implement K-Means by hand, do not use the sklearn. How can you define the centroids?"
   ]
  },
  {
   "cell_type": "code",
   "execution_count": null,
   "id": "f5859da0",
   "metadata": {},
   "outputs": [],
   "source": [
    "#Import libraries\n",
    "from skimage import io\n",
    "from skimage import color\n",
    "\n",
    "import numpy as np\n",
    "import matplotlib.pyplot as plt\n",
    "\n",
    "import pandas as pd\n",
    "%matplotlib inline\n",
    "import requests"
   ]
  },
  {
   "cell_type": "code",
   "execution_count": null,
   "id": "1693a473",
   "metadata": {},
   "outputs": [],
   "source": [
    "#Download image. Feel free to change the image. Remember that we are working with RGB images.\n",
    "url = \"https://www.rainforest-alliance.org/wp-content/uploads/2021/06/poison-dart-frog-thumb-1-400x400.jpg\"\n",
    "img_data = requests.get(url).content\n",
    "with open('image.jpg', 'wb') as handler:\n",
    "    handler.write(img_data)\n",
    "img = io.imread(\"image.jpg\")"
   ]
  },
  {
   "cell_type": "code",
   "execution_count": null,
   "id": "b2292911",
   "metadata": {},
   "outputs": [],
   "source": [
    "#Show image\n",
    "plt.imshow(img)\n",
    "plt.axis(\"off\")"
   ]
  },
  {
   "cell_type": "code",
   "execution_count": null,
   "id": "dca0310e",
   "metadata": {},
   "outputs": [],
   "source": [
    "#Check the shape of the image. If there are more or less channels, we might have an image in another format\n",
    "img.shape"
   ]
  },
  {
   "cell_type": "code",
   "execution_count": null,
   "id": "b7d47a0f",
   "metadata": {},
   "outputs": [],
   "source": [
    "#Show just the blue channel\n",
    "plt.imshow(img[:,:,2])"
   ]
  },
  {
   "cell_type": "code",
   "execution_count": null,
   "id": "b2de2c88",
   "metadata": {},
   "outputs": [],
   "source": [
    "#TODO Feel free to change the method definition and documentation, you can create the method that you need\n",
    "\n",
    "#Method for computing the new centroids. The parameters are:\n",
    "#     - centroids. Current centroids.\n",
    "#     - data. data[0] will contain the image\n",
    "#             data[1] will contain the current label or centroid\n",
    "# Returns the new centroids. The data and labels do not change.\n",
    "def compute_centroids(centroids,data):\n",
    "    #For each centroid, calculate the new center, by finding the mean of the data points in each channel.\n",
    "\n",
    "    return None"
   ]
  },
  {
   "cell_type": "code",
   "execution_count": null,
   "id": "0d453e84",
   "metadata": {},
   "outputs": [],
   "source": [
    "#TODO Feel free to change the method definition and documentation, you can create the method that you need\n",
    "\n",
    "#Method for assigning the points to a new centroid. The parameters are:\n",
    "#     - centroids. Current centroids.\n",
    "#     - data. data[0] will contain the image\n",
    "#             data[1] will contain the current label or centroid\n",
    "# Returns the new labels. The points are assigned based on Euclidean distance.\n",
    "def assign(centroids,data):\n",
    "\n",
    "    return None"
   ]
  },
  {
   "cell_type": "code",
   "execution_count": null,
   "id": "2d9ee2fd",
   "metadata": {},
   "outputs": [],
   "source": [
    "#TODO Feel free to change the method definition and documentation, you can create the method that you need\n",
    "\n",
    "#Method that implements K-Means. The parameters are:\n",
    "#     - k. The problem with K-Means is that it needs a hyperparameter k, selected by the user.\n",
    "#     - image. \n",
    "#Returns a segmented image.\n",
    "def k_means(k,image):\n",
    "    #Generate the centroids. Randomly. Our centroids are three dimensional.\n",
    "    centroids = {i+1:[np.random.randint(255),np.random.randint(255),np.random.randint(255)]for i in range(k)}\n",
    "    \n",
    "    return new_i"
   ]
  },
  {
   "cell_type": "code",
   "execution_count": null,
   "id": "3b22df4a",
   "metadata": {},
   "outputs": [],
   "source": [
    "#Get 8 new images, with a different number of clusters\n",
    "images = []\n",
    "for k in range(1,9):\n",
    "    images.append(k_means(k,img))"
   ]
  },
  {
   "cell_type": "code",
   "execution_count": null,
   "id": "b01a8a13",
   "metadata": {},
   "outputs": [],
   "source": [
    "#Method for showing the comparison of the images\n",
    "def print_images(imagenes):\n",
    "    #Configuration of the plot\n",
    "    plt.figure(figsize=(15, 10))\n",
    "    plt.subplot(np.ceil(len(imagenes)/3), 3, 1)\n",
    "\n",
    "    #Show original image\n",
    "    plt.imshow(img)\n",
    "    plt.title(\"Imagen Original\")\n",
    "    plt.axis(\"off\")\n",
    "\n",
    "    #Show the segmented images\n",
    "    for idx in range(len(imagenes)):\n",
    "        plt.subplot(np.ceil(len(imagenes)/3), 3, 2 + idx)\n",
    "        plt.imshow(imagenes[idx].astype('uint8'))\n",
    "        plt.title(f\"{idx+1} Colors\")\n",
    "        plt.axis(\"off\")\n",
    "    plt.show()"
   ]
  },
  {
   "cell_type": "code",
   "execution_count": null,
   "id": "2f5ae67d",
   "metadata": {},
   "outputs": [],
   "source": [
    "print_images(images)"
   ]
  },
  {
   "cell_type": "code",
   "execution_count": null,
   "id": "0cba68a1",
   "metadata": {},
   "outputs": [],
   "source": [
    "plt.imshow(k_means(15,img))"
   ]
  },
  {
   "cell_type": "code",
   "execution_count": null,
   "id": "410b41e0",
   "metadata": {},
   "outputs": [],
   "source": []
  }
 ],
 "metadata": {
  "kernelspec": {
   "display_name": "Python 3 (ipykernel)",
   "language": "python",
   "name": "python3"
  },
  "language_info": {
   "codemirror_mode": {
    "name": "ipython",
    "version": 3
   },
   "file_extension": ".py",
   "mimetype": "text/x-python",
   "name": "python",
   "nbconvert_exporter": "python",
   "pygments_lexer": "ipython3",
   "version": "3.9.7"
  }
 },
 "nbformat": 4,
 "nbformat_minor": 5
}
